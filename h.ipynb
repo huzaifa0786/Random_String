{
 "metadata": {
  "language_info": {
   "codemirror_mode": {
    "name": "ipython",
    "version": 3
   },
   "file_extension": ".py",
   "mimetype": "text/x-python",
   "name": "python",
   "nbconvert_exporter": "python",
   "pygments_lexer": "ipython3",
   "version": "3.9.2-final"
  },
  "orig_nbformat": 2,
  "kernelspec": {
   "name": "python3",
   "display_name": "Python 3.9.2 64-bit",
   "metadata": {
    "interpreter": {
     "hash": "22f6b988c804dbe7f5299c324c699b3fe3ab9f3e2c9d2f5abcd1a724d93c420b"
    }
   }
  }
 },
 "nbformat": 4,
 "nbformat_minor": 2,
 "cells": [
  {
   "cell_type": "code",
   "execution_count": 3,
   "source": [
    "import string\r\n",
    "import random\r\n",
    "N=20\r\n",
    "for i in range(0,501):\r\n",
    "    text_file = open('file.txt'+str(i),'w')\r\n",
    "    text_file.writelines(''.join(random.choices(string.ascii_uppercase + string.digits, k = N)))\r\n",
    "    text_file.close()"
   ],
   "outputs": [],
   "metadata": {}
  },
  {
   "cell_type": "code",
   "execution_count": 2,
   "source": [
    "\r\n",
    "# import the random module\r\n",
    "import random as r\r\n",
    "import string as s\r\n",
    "\r\n",
    "# define the main function\r\n",
    "def main():\r\n",
    "\r\n",
    "       \r\n",
    "        random_numbers = open('ran_numbers.txt', 'w')\r\n",
    "\r\n",
    "        # get the number of random numbers to be generated\r\n",
    "        qty_numbers = 20\r\n",
    "\r\n",
    "        print('Your list of random numbers are: ')\r\n",
    "\r\n",
    "        # create a loop to generate the random numbers in the quantity specified\r\n",
    "        for count in range (qty_numbers):\r\n",
    "              numbers = r.sample(s.ascii_letters, 20)\r\n",
    "              number=''.join(numbers)\r\n",
    "              # print the list of random numbers\r\n",
    "              print(number)\r\n",
    "\r\n",
    "\r\n",
    "        # convert the numbers to a string and write them to the file\r\n",
    "        random_numbers.write(str(number)+ '\\n')\r\n",
    "\r\n",
    "        # close the file\r\n",
    "        random_numbers.close()\r\n",
    "\r\n",
    "        # tell the user that the numbers have been written to the file name.\r\n",
    "        print('Your list of random numbers have been written to the file named')\r\n",
    "        print('ran_numbers.txt')\r\n",
    "\r\n",
    "# call the main function\r\n",
    "main()\r\n"
   ],
   "outputs": [
    {
     "output_type": "stream",
     "name": "stdout",
     "text": [
      "Your list of random numbers are: \n",
      "cfvYaOTwMXNFkZJISKeP\n",
      "AXQudBqkeFmTDgvrhojI\n",
      "jWKhybANGrDHmvgtISxu\n",
      "JIjRDgiqbPtOsEzVNXeK\n",
      "UanWKeiAQvCsLZtwBFPJ\n",
      "yawfbUYDCotcqesvjGuL\n",
      "DLpYgwkdBcyTAOjRbtom\n",
      "puWEnJhiPBGsIxvHUmTa\n",
      "EjCQxkDWLaPtuNnYqIAr\n",
      "YnksebroSiOBqNLEyGFz\n",
      "HyCQTvYDJnhSFjGrPBqu\n",
      "bVWwZOBohNKcfnLlSQqP\n",
      "dWIMijQUgBeFbZuGXmCO\n",
      "sAljhZVHfExieSpXYuKz\n",
      "ewnxWvVIXpdEtDKOymgj\n",
      "zEBFUGWNDdxgfkXqKnbV\n",
      "PTIdaJsbnqoLvYcAMwBS\n",
      "eFCPrkyWKYTZAdhVctUD\n",
      "RpDyAMuOYmilfcbQHdST\n",
      "aXJqtjuKMLvmVhlfgPAk\n",
      "Your list of random numbers have been written to the file named\n",
      "ran_numbers.txt\n"
     ]
    }
   ],
   "metadata": {
    "tags": [
     "outputPrepend"
    ]
   }
  },
  {
   "cell_type": "code",
   "execution_count": 1,
   "source": [
    "import random as r\r\n",
    "import string as s\r\n",
    "def main():\r\n",
    "     random_numbers = open('ran_numbers.txt', 'w+')\r\n",
    "     qty_numbers = 200\r\n",
    "     print('Your list of random numbers are: ')\r\n",
    "     for count in range (qty_numbers):\r\n",
    "        numbers = r.sample(s.ascii_letters, 20)\r\n",
    "        number=''.join(numbers)\r\n",
    "        print(number)\r\n",
    "        random_numbers.write(str(number)+ '\\n')\r\n",
    "        random_numbers.close()\r\n",
    "        print('Your list of random numbers have been written to the file named')\r\n",
    "        print('ran_numbers.txt')\r\n",
    "main()"
   ],
   "outputs": [
    {
     "output_type": "stream",
     "name": "stdout",
     "text": [
      "Your list of random numbers are: \n",
      "necVvEWHufbZNAPqhSrw\n",
      "Your list of random numbers have been written to the file named\n",
      "ran_numbers.txt\n",
      "SZhxjFOctNGaMqzQglvJ\n"
     ]
    },
    {
     "output_type": "error",
     "ename": "ValueError",
     "evalue": "I/O operation on closed file.",
     "traceback": [
      "\u001b[1;31m---------------------------------------------------------------------------\u001b[0m",
      "\u001b[1;31mValueError\u001b[0m                                Traceback (most recent call last)",
      "\u001b[1;32m<ipython-input-1-84c40213ab00>\u001b[0m in \u001b[0;36m<module>\u001b[1;34m\u001b[0m\n\u001b[0;32m     13\u001b[0m         \u001b[0mprint\u001b[0m\u001b[1;33m(\u001b[0m\u001b[1;34m'Your list of random numbers have been written to the file named'\u001b[0m\u001b[1;33m)\u001b[0m\u001b[1;33m\u001b[0m\u001b[1;33m\u001b[0m\u001b[0m\n\u001b[0;32m     14\u001b[0m         \u001b[0mprint\u001b[0m\u001b[1;33m(\u001b[0m\u001b[1;34m'ran_numbers.txt'\u001b[0m\u001b[1;33m)\u001b[0m\u001b[1;33m\u001b[0m\u001b[1;33m\u001b[0m\u001b[0m\n\u001b[1;32m---> 15\u001b[1;33m \u001b[0mmain\u001b[0m\u001b[1;33m(\u001b[0m\u001b[1;33m)\u001b[0m\u001b[1;33m\u001b[0m\u001b[1;33m\u001b[0m\u001b[0m\n\u001b[0m",
      "\u001b[1;32m<ipython-input-1-84c40213ab00>\u001b[0m in \u001b[0;36mmain\u001b[1;34m()\u001b[0m\n\u001b[0;32m      9\u001b[0m         \u001b[0mnumber\u001b[0m\u001b[1;33m=\u001b[0m\u001b[1;34m''\u001b[0m\u001b[1;33m.\u001b[0m\u001b[0mjoin\u001b[0m\u001b[1;33m(\u001b[0m\u001b[0mnumbers\u001b[0m\u001b[1;33m)\u001b[0m\u001b[1;33m\u001b[0m\u001b[1;33m\u001b[0m\u001b[0m\n\u001b[0;32m     10\u001b[0m         \u001b[0mprint\u001b[0m\u001b[1;33m(\u001b[0m\u001b[0mnumber\u001b[0m\u001b[1;33m)\u001b[0m\u001b[1;33m\u001b[0m\u001b[1;33m\u001b[0m\u001b[0m\n\u001b[1;32m---> 11\u001b[1;33m         \u001b[0mrandom_numbers\u001b[0m\u001b[1;33m.\u001b[0m\u001b[0mwrite\u001b[0m\u001b[1;33m(\u001b[0m\u001b[0mstr\u001b[0m\u001b[1;33m(\u001b[0m\u001b[0mnumber\u001b[0m\u001b[1;33m)\u001b[0m\u001b[1;33m+\u001b[0m \u001b[1;34m'\\n'\u001b[0m\u001b[1;33m)\u001b[0m\u001b[1;33m\u001b[0m\u001b[1;33m\u001b[0m\u001b[0m\n\u001b[0m\u001b[0;32m     12\u001b[0m         \u001b[0mrandom_numbers\u001b[0m\u001b[1;33m.\u001b[0m\u001b[0mclose\u001b[0m\u001b[1;33m(\u001b[0m\u001b[1;33m)\u001b[0m\u001b[1;33m\u001b[0m\u001b[1;33m\u001b[0m\u001b[0m\n\u001b[0;32m     13\u001b[0m         \u001b[0mprint\u001b[0m\u001b[1;33m(\u001b[0m\u001b[1;34m'Your list of random numbers have been written to the file named'\u001b[0m\u001b[1;33m)\u001b[0m\u001b[1;33m\u001b[0m\u001b[1;33m\u001b[0m\u001b[0m\n",
      "\u001b[1;31mValueError\u001b[0m: I/O operation on closed file."
     ]
    }
   ],
   "metadata": {}
  },
  {
   "cell_type": "code",
   "execution_count": null,
   "source": [],
   "outputs": [],
   "metadata": {}
  }
 ]
}